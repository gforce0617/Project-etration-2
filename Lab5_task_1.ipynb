{
  "cells": [
    {
      "cell_type": "markdown",
      "metadata": {
        "id": "xPWPJayBLYt_"
      },
      "source": [
        "# Лабораторная работа № 5. Прогнозирование временного ряда на примере температуры блока усиления мощности."
      ]
    },
    {
      "cell_type": "markdown",
      "metadata": {
        "id": "x8SD0KwZLYuC"
      },
      "source": [
        "В работе проводится обзор основных методов машинного обучения по прогнозированию временного ряда. В качестве примера рассмотрен ряд температур блока усиления мощности."
      ]
    },
    {
      "cell_type": "markdown",
      "metadata": {
        "id": "TUoSD-UPLYuD"
      },
      "source": [
        "## Введение\n",
        "\n",
        "Современные радиолокационные станции (РЛС) – это структурно-сложные радиотехнические и информационные системы, характеризующиеся высокой надежностью функционирования и большим числом цифровых компонентов в своем составе. Одним из таких компонентов является блок усиления мощности (БУМ), задача которого усиливать передаваемый или принимаемый сигнал.\n",
        "\n",
        "Функционирование БУМ приводит к их нагреву, что может сказаться на снижении их работоспособности или даже привести к отказу.  Техническое состояние БУМ напрямую зависит от их температуры: при достижении определенного порога блок перестает работать и начинает охлаждаться. После охлаждения до определенной температуры он снова переходит в рабоспособное состояние.\n",
        "\n",
        "Основная задача, решаемая в рамках данной лабораторной работы - спрогнозировать будущее значение температуры блоков усиления мощности на основании истории их функционирования и режима работы блоков. Последний определяет тип сигнала, передаваемый на БУМ, а поэтому определяет интенсивность нагрева."
      ]
    },
    {
      "cell_type": "markdown",
      "metadata": {
        "id": "4erlH87ULYuD"
      },
      "source": [
        "Существует 2 основных подхода к прогнозированию временного ряда методами машинного обучения. В обоих подходах обучающая выборка состоит из ретроспективных данных о функционировании блока. Отличие состоит в том, что выбирается в качестве целевой переменной. \n",
        "\n",
        "В первом подходе определяется значение временного ряда (температуры) на следующем отсчете времени (целевая переменная - 1-мерная). Тогда прогнозные значения на каком-то интервале времени будут получаться путем последовательного прогнозирования значения ряда на 1 временной отсчет. При этом ошибка неизбежно накапливается, поскольку каждое прогнозное значение имеет свою неустранимую ошибку.\n",
        "\n",
        "В другом подходе в качестве целевой переменной выбирается сразу интервал значений длиной *n* (целевая переменная *n*-мерная). Такой подход лишен недостатка в виде накопления ошибки, как в первом подходе. Однако, в этом случае сам метод прогнозирования сложнее и требует больших временных затрат и больших вычислительных мощностей.\n",
        "\n",
        "В данной лабораторной работе мы остановимся на первом подходе."
      ]
    },
    {
      "cell_type": "markdown",
      "metadata": {
        "id": "OSLck9j2LYuE"
      },
      "source": [
        "## Описание файла с данными"
      ]
    },
    {
      "cell_type": "markdown",
      "metadata": {
        "id": "_NvqtiT_LYuE"
      },
      "source": [
        "Подключим стандартные пакеты для работы с данными и построения графиков"
      ]
    },
    {
      "cell_type": "code",
      "execution_count": null,
      "metadata": {
        "colab": {
          "base_uri": "https://localhost:8080/"
        },
        "id": "BAXlCNgULYuF",
        "outputId": "b8a10d69-5fab-4645-d188-db7d5850b1d7"
      },
      "outputs": [
        {
          "output_type": "stream",
          "name": "stdout",
          "text": [
            "Mounted at /content/drive\n"
          ]
        }
      ],
      "source": [
        "import numpy as np\n",
        "import pandas as pd\n",
        "from matplotlib import pyplot as plt\n",
        "%matplotlib inline\n",
        "\n",
        "from google.colab import drive\n",
        "drive.mount('/content/drive')"
      ]
    },
    {
      "cell_type": "markdown",
      "metadata": {
        "id": "bUSTe4hbLYuG"
      },
      "source": [
        "Загрузим файл с данными и выведем на экран первые 5 строк. Получим информацию по каждой колонке."
      ]
    },
    {
      "cell_type": "code",
      "execution_count": null,
      "metadata": {
        "colab": {
          "base_uri": "https://localhost:8080/",
          "height": 206
        },
        "id": "30MOFPESLYuG",
        "outputId": "c0ed4750-6a16-49b8-e38c-6f7f162b4fed"
      },
      "outputs": [
        {
          "output_type": "execute_result",
          "data": {
            "text/html": [
              "<div>\n",
              "<style scoped>\n",
              "    .dataframe tbody tr th:only-of-type {\n",
              "        vertical-align: middle;\n",
              "    }\n",
              "\n",
              "    .dataframe tbody tr th {\n",
              "        vertical-align: top;\n",
              "    }\n",
              "\n",
              "    .dataframe thead th {\n",
              "        text-align: right;\n",
              "    }\n",
              "</style>\n",
              "<table border=\"1\" class=\"dataframe\">\n",
              "  <thead>\n",
              "    <tr style=\"text-align: right;\">\n",
              "      <th></th>\n",
              "      <th>mode</th>\n",
              "      <th>temp1</th>\n",
              "      <th>temp2</th>\n",
              "      <th>temp3</th>\n",
              "    </tr>\n",
              "  </thead>\n",
              "  <tbody>\n",
              "    <tr>\n",
              "      <th>0</th>\n",
              "      <td>3</td>\n",
              "      <td>28.286114</td>\n",
              "      <td>28.043155</td>\n",
              "      <td>27.282141</td>\n",
              "    </tr>\n",
              "    <tr>\n",
              "      <th>1</th>\n",
              "      <td>4</td>\n",
              "      <td>34.142434</td>\n",
              "      <td>35.346311</td>\n",
              "      <td>34.829661</td>\n",
              "    </tr>\n",
              "    <tr>\n",
              "      <th>2</th>\n",
              "      <td>2</td>\n",
              "      <td>34.813586</td>\n",
              "      <td>36.781106</td>\n",
              "      <td>34.445407</td>\n",
              "    </tr>\n",
              "    <tr>\n",
              "      <th>3</th>\n",
              "      <td>4</td>\n",
              "      <td>39.946499</td>\n",
              "      <td>43.133120</td>\n",
              "      <td>40.372435</td>\n",
              "    </tr>\n",
              "    <tr>\n",
              "      <th>4</th>\n",
              "      <td>4</td>\n",
              "      <td>43.950857</td>\n",
              "      <td>47.014358</td>\n",
              "      <td>44.162152</td>\n",
              "    </tr>\n",
              "  </tbody>\n",
              "</table>\n",
              "</div>"
            ],
            "text/plain": [
              "   mode      temp1      temp2      temp3\n",
              "0     3  28.286114  28.043155  27.282141\n",
              "1     4  34.142434  35.346311  34.829661\n",
              "2     2  34.813586  36.781106  34.445407\n",
              "3     4  39.946499  43.133120  40.372435\n",
              "4     4  43.950857  47.014358  44.162152"
            ]
          },
          "metadata": {},
          "execution_count": 2
        }
      ],
      "source": [
        "df = pd.read_csv(\"/content/drive/MyDrive/Colab Notebooks/Lab5_data.csv\")\n",
        "df.head(5)"
      ]
    },
    {
      "cell_type": "code",
      "execution_count": null,
      "metadata": {
        "colab": {
          "base_uri": "https://localhost:8080/"
        },
        "id": "natDSeKpLYuH",
        "outputId": "5a6237a6-1e40-444e-e0d9-b17a5f243aa9"
      },
      "outputs": [
        {
          "output_type": "stream",
          "name": "stdout",
          "text": [
            "<class 'pandas.core.frame.DataFrame'>\n",
            "RangeIndex: 1205950 entries, 0 to 1205949\n",
            "Data columns (total 4 columns):\n",
            " #   Column  Non-Null Count    Dtype  \n",
            "---  ------  --------------    -----  \n",
            " 0   mode    1205950 non-null  int64  \n",
            " 1   temp1   1205950 non-null  float64\n",
            " 2   temp2   1205950 non-null  float64\n",
            " 3   temp3   1205950 non-null  float64\n",
            "dtypes: float64(3), int64(1)\n",
            "memory usage: 36.8 MB\n"
          ]
        }
      ],
      "source": [
        "df.info()"
      ]
    },
    {
      "cell_type": "markdown",
      "metadata": {
        "id": "Mpdwt1K7LYuH"
      },
      "source": [
        "Первая колонка **mode** обозначает номер режима работы блоков. Этот режим определяет интенсивность нагрева блоков. Следующие 3 колонки содержат в себе информацию о температуре каждого из 3-х БУМ в каждый момент времени.\n",
        "\n",
        "Создадим 3 таблицы, содержащие информацию о режиме работы и температуры каждого из блоков."
      ]
    },
    {
      "cell_type": "code",
      "execution_count": null,
      "metadata": {
        "colab": {
          "base_uri": "https://localhost:8080/",
          "height": 424
        },
        "id": "vO9cngG-LYuI",
        "outputId": "292a6cd2-856e-47b2-d766-d885f24a95b0"
      },
      "outputs": [
        {
          "output_type": "execute_result",
          "data": {
            "text/html": [
              "<div>\n",
              "<style scoped>\n",
              "    .dataframe tbody tr th:only-of-type {\n",
              "        vertical-align: middle;\n",
              "    }\n",
              "\n",
              "    .dataframe tbody tr th {\n",
              "        vertical-align: top;\n",
              "    }\n",
              "\n",
              "    .dataframe thead th {\n",
              "        text-align: right;\n",
              "    }\n",
              "</style>\n",
              "<table border=\"1\" class=\"dataframe\">\n",
              "  <thead>\n",
              "    <tr style=\"text-align: right;\">\n",
              "      <th></th>\n",
              "      <th>mode</th>\n",
              "      <th>temp</th>\n",
              "    </tr>\n",
              "  </thead>\n",
              "  <tbody>\n",
              "    <tr>\n",
              "      <th>0</th>\n",
              "      <td>3</td>\n",
              "      <td>27.282141</td>\n",
              "    </tr>\n",
              "    <tr>\n",
              "      <th>1</th>\n",
              "      <td>4</td>\n",
              "      <td>34.829661</td>\n",
              "    </tr>\n",
              "    <tr>\n",
              "      <th>2</th>\n",
              "      <td>2</td>\n",
              "      <td>34.445407</td>\n",
              "    </tr>\n",
              "    <tr>\n",
              "      <th>3</th>\n",
              "      <td>4</td>\n",
              "      <td>40.372435</td>\n",
              "    </tr>\n",
              "    <tr>\n",
              "      <th>4</th>\n",
              "      <td>4</td>\n",
              "      <td>44.162152</td>\n",
              "    </tr>\n",
              "    <tr>\n",
              "      <th>...</th>\n",
              "      <td>...</td>\n",
              "      <td>...</td>\n",
              "    </tr>\n",
              "    <tr>\n",
              "      <th>1205945</th>\n",
              "      <td>2</td>\n",
              "      <td>31.708594</td>\n",
              "    </tr>\n",
              "    <tr>\n",
              "      <th>1205946</th>\n",
              "      <td>4</td>\n",
              "      <td>38.969345</td>\n",
              "    </tr>\n",
              "    <tr>\n",
              "      <th>1205947</th>\n",
              "      <td>2</td>\n",
              "      <td>38.526112</td>\n",
              "    </tr>\n",
              "    <tr>\n",
              "      <th>1205948</th>\n",
              "      <td>0</td>\n",
              "      <td>37.372826</td>\n",
              "    </tr>\n",
              "    <tr>\n",
              "      <th>1205949</th>\n",
              "      <td>2</td>\n",
              "      <td>37.312010</td>\n",
              "    </tr>\n",
              "  </tbody>\n",
              "</table>\n",
              "<p>1205950 rows × 2 columns</p>\n",
              "</div>"
            ],
            "text/plain": [
              "         mode       temp\n",
              "0           3  27.282141\n",
              "1           4  34.829661\n",
              "2           2  34.445407\n",
              "3           4  40.372435\n",
              "4           4  44.162152\n",
              "...       ...        ...\n",
              "1205945     2  31.708594\n",
              "1205946     4  38.969345\n",
              "1205947     2  38.526112\n",
              "1205948     0  37.372826\n",
              "1205949     2  37.312010\n",
              "\n",
              "[1205950 rows x 2 columns]"
            ]
          },
          "metadata": {},
          "execution_count": 4
        }
      ],
      "source": [
        "# Напишите свой код здесь\n",
        "cnt = 1\n",
        "df1 = pd.DataFrame()\n",
        "df2 = pd.DataFrame()\n",
        "df3 = pd.DataFrame()\n",
        "\n",
        "for i in [df1, df2, df3]:\n",
        "  i['mode'] = df.loc[:,'mode']\n",
        "  i['temp'] = df.loc[:,'temp' + str(cnt)]\n",
        "  cnt += 1\n",
        "\n",
        "df3"
      ]
    },
    {
      "cell_type": "markdown",
      "metadata": {
        "id": "vqpyySHNLYuI"
      },
      "source": [
        "Активный **DataFrame** будем обозначать как **df**. Это позволит довольно легко применять различные методы прогноза для различных блоков без переписывания кода. Достаточно просто будет сделать активной какую-либо из 3-х таблиц."
      ]
    },
    {
      "cell_type": "code",
      "execution_count": null,
      "metadata": {
        "colab": {
          "base_uri": "https://localhost:8080/",
          "height": 279
        },
        "id": "8zE47UhlLYuI",
        "outputId": "a152174c-a3fa-43aa-db68-f28ec8fec9c4"
      },
      "outputs": [
        {
          "output_type": "display_data",
          "data": {
            "image/png": "[encoded data removed]",
            "text/plain": [
              "<Figure size 432x288 with 1 Axes>"
            ]
          },
          "metadata": {
            "needs_background": "light"
          }
        }
      ],
      "source": [
        "df = df1\n",
        "\n",
        "plt.plot(df['temp'])\n",
        "plt.xlim(0,1000)\n",
        "plt.xlabel('Time')\n",
        "plt.ylabel('Temp')\n",
        "plt.show()"
      ]
    },
    {
      "cell_type": "markdown",
      "metadata": {
        "id": "rNKS_-P1LYuI"
      },
      "source": [
        "## Анализ режимов работы"
      ]
    },
    {
      "cell_type": "markdown",
      "metadata": {
        "id": "QA66NkquLYuJ"
      },
      "source": [
        "Проанализируем, чем отличаются режимы друг от друга. Поскольку режим работы определяет интенсивность нагрева, то режимом работы определяется то, насколько изменилась температура за один отсчет времени, т.е. производная температуры по времени.\n",
        "\n",
        "Добавим в таблицу столбец, показывающий разность текущего значения температуры и в предыдущий отсчет времени."
      ]
    },
    {
      "cell_type": "code",
      "execution_count": null,
      "metadata": {
        "colab": {
          "base_uri": "https://localhost:8080/",
          "height": 424
        },
        "id": "mO8Ty5gGLYuJ",
        "outputId": "49dcc698-fb65-4764-b232-03e01f66e280"
      },
      "outputs": [
        {
          "output_type": "execute_result",
          "data": {
            "text/html": [
              "<div>\n",
              "<style scoped>\n",
              "    .dataframe tbody tr th:only-of-type {\n",
              "        vertical-align: middle;\n",
              "    }\n",
              "\n",
              "    .dataframe tbody tr th {\n",
              "        vertical-align: top;\n",
              "    }\n",
              "\n",
              "    .dataframe thead th {\n",
              "        text-align: right;\n",
              "    }\n",
              "</style>\n",
              "<table border=\"1\" class=\"dataframe\">\n",
              "  <thead>\n",
              "    <tr style=\"text-align: right;\">\n",
              "      <th></th>\n",
              "      <th>mode</th>\n",
              "      <th>temp</th>\n",
              "      <th>delta_temp</th>\n",
              "    </tr>\n",
              "  </thead>\n",
              "  <tbody>\n",
              "    <tr>\n",
              "      <th>0</th>\n",
              "      <td>3</td>\n",
              "      <td>28.043155</td>\n",
              "      <td>0.000000</td>\n",
              "    </tr>\n",
              "    <tr>\n",
              "      <th>1</th>\n",
              "      <td>4</td>\n",
              "      <td>35.346311</td>\n",
              "      <td>7.303156</td>\n",
              "    </tr>\n",
              "    <tr>\n",
              "      <th>2</th>\n",
              "      <td>2</td>\n",
              "      <td>36.781106</td>\n",
              "      <td>1.434795</td>\n",
              "    </tr>\n",
              "    <tr>\n",
              "      <th>3</th>\n",
              "      <td>4</td>\n",
              "      <td>43.133120</td>\n",
              "      <td>6.352014</td>\n",
              "    </tr>\n",
              "    <tr>\n",
              "      <th>4</th>\n",
              "      <td>4</td>\n",
              "      <td>47.014358</td>\n",
              "      <td>3.881238</td>\n",
              "    </tr>\n",
              "    <tr>\n",
              "      <th>...</th>\n",
              "      <td>...</td>\n",
              "      <td>...</td>\n",
              "      <td>...</td>\n",
              "    </tr>\n",
              "    <tr>\n",
              "      <th>1205945</th>\n",
              "      <td>2</td>\n",
              "      <td>19.855945</td>\n",
              "      <td>-0.901388</td>\n",
              "    </tr>\n",
              "    <tr>\n",
              "      <th>1205946</th>\n",
              "      <td>4</td>\n",
              "      <td>32.038964</td>\n",
              "      <td>12.183019</td>\n",
              "    </tr>\n",
              "    <tr>\n",
              "      <th>1205947</th>\n",
              "      <td>2</td>\n",
              "      <td>31.179757</td>\n",
              "      <td>-0.859207</td>\n",
              "    </tr>\n",
              "    <tr>\n",
              "      <th>1205948</th>\n",
              "      <td>0</td>\n",
              "      <td>28.579212</td>\n",
              "      <td>-2.600545</td>\n",
              "    </tr>\n",
              "    <tr>\n",
              "      <th>1205949</th>\n",
              "      <td>2</td>\n",
              "      <td>27.605826</td>\n",
              "      <td>-0.973386</td>\n",
              "    </tr>\n",
              "  </tbody>\n",
              "</table>\n",
              "<p>1205950 rows × 3 columns</p>\n",
              "</div>"
            ],
            "text/plain": [
              "         mode       temp  delta_temp\n",
              "0           3  28.043155    0.000000\n",
              "1           4  35.346311    7.303156\n",
              "2           2  36.781106    1.434795\n",
              "3           4  43.133120    6.352014\n",
              "4           4  47.014358    3.881238\n",
              "...       ...        ...         ...\n",
              "1205945     2  19.855945   -0.901388\n",
              "1205946     4  32.038964   12.183019\n",
              "1205947     2  31.179757   -0.859207\n",
              "1205948     0  28.579212   -2.600545\n",
              "1205949     2  27.605826   -0.973386\n",
              "\n",
              "[1205950 rows x 3 columns]"
            ]
          },
          "metadata": {},
          "execution_count": 6
        }
      ],
      "source": [
        "# Напишите свой код здесь\n",
        "for i in [df1, df2, df3]:\n",
        "  i['delta_temp'] = i['temp'].diff()\n",
        "  i['delta_temp'] = i['delta_temp'].fillna(0)\n",
        "\n",
        "df2"
      ]
    },
    {
      "cell_type": "markdown",
      "metadata": {
        "id": "fsSph9QwLYuJ"
      },
      "source": [
        "Зададим функцию, которая выделяет из полученной таблицы значения температуры и ее производной для заданного режима работы."
      ]
    },
    {
      "cell_type": "code",
      "execution_count": null,
      "metadata": {
        "id": "ZE_cE8cLLYuJ"
      },
      "outputs": [],
      "source": [
        "def select_data(df, mode):\n",
        "    # Напишите свой код здесь\n",
        "    temp = df.loc[df['mode'] == mode, 'temp']\n",
        "    delta_temp = df.loc[df['mode'] == mode, 'delta_temp']\n",
        "    return temp, delta_temp"
      ]
    },
    {
      "cell_type": "markdown",
      "metadata": {
        "id": "OWiY_EluLYuK"
      },
      "source": [
        "Определим возможные режимы работы блоков."
      ]
    },
    {
      "cell_type": "code",
      "execution_count": null,
      "metadata": {
        "colab": {
          "base_uri": "https://localhost:8080/"
        },
        "id": "AQczqa7OLYuK",
        "outputId": "951bf679-e028-447b-e5a2-79c4f50e9cc1"
      },
      "outputs": [
        {
          "output_type": "execute_result",
          "data": {
            "text/plain": [
              "array([3, 4, 2, 1, 0])"
            ]
          },
          "metadata": {},
          "execution_count": 8
        }
      ],
      "source": [
        "df['mode'].unique()"
      ]
    },
    {
      "cell_type": "markdown",
      "metadata": {
        "id": "v0UOM05-LYuK"
      },
      "source": [
        "Построим 5 графиков, на каждом из которых отобразим характерные особенности каждого из режимов работы. Для этого будем по горизонтальной оси откладывать температуру блока, а по вертикальной оси - изменение температуры за один отсчет времени. Каждый временной отсчет будем откладывать в виде точки на этих графиках."
      ]
    },
    {
      "cell_type": "code",
      "execution_count": null,
      "metadata": {
        "colab": {
          "base_uri": "https://localhost:8080/",
          "height": 295
        },
        "id": "uh_-pvVuLYuK",
        "outputId": "fcec5854-dbf7-4c4e-d97e-d693974bbd67"
      },
      "outputs": [
        {
          "output_type": "display_data",
          "data": {
            "image/png": "[encoded data removed]",
            "text/plain": [
              "<Figure size 1440x288 with 5 Axes>"
            ]
          },
          "metadata": {
            "needs_background": "light"
          }
        }
      ],
      "source": [
        "plt.figure(figsize=(20,4))\n",
        "for mode in range(5):\n",
        "    plt.subplot(1,5,mode+1)\n",
        "    x, y = select_data(df, mode)\n",
        "    plt.scatter(x, y, s=2)\n",
        "    plt.title('Mode '+str(mode))\n",
        "    plt.xlabel('T')\n",
        "    if mode == 0:\n",
        "        plt.ylabel('dT')\n",
        "plt.show()"
      ]
    },
    {
      "cell_type": "markdown",
      "metadata": {
        "id": "p_6hgY5uLYuK"
      },
      "source": [
        "Проанализируем полученные характеристики каждого из режимов работы. Прежде всего на всех графиках присутствует область с изменением температуры от -3 до -1 и температурой от 25 до 70, что соответствует охлаждению блока. В этом состоянии блок не работает, режимы работы не сказываются на температуре блока, поэтому эти области можно исключить из рассмотрени.\n",
        "\n",
        "Сравнение изменений температур в остальных областях позволяет сделать вывод, что в режиме 0 происходит всегда охлаждение, в режиме 1 - хаотически нагрев и охлаждение, в режимах 2 - 4 - нагрев, при этом увеличение номера режима соответствует увеличению интенсивности нагрева. "
      ]
    },
    {
      "cell_type": "markdown",
      "metadata": {
        "id": "lET8MkCuLYuL"
      },
      "source": [
        "## Подготовка данных"
      ]
    },
    {
      "cell_type": "markdown",
      "metadata": {
        "id": "nG-fFwTsLYuL"
      },
      "source": [
        "### Нормирование"
      ]
    },
    {
      "cell_type": "markdown",
      "metadata": {
        "id": "4B5kz-2rLYuL"
      },
      "source": [
        "Температура, записанная в таблице **df** измеряется в градусах Цельсия. Однако для применения линейных моделей машинного обучения крайне важно нормировать данные, чтобы ограничить их максимальные и минимальные значения. Отнормируем значения температуры на отрезок \\[0,1\\]. Сохраненные значения **max_value** и **min_value** позволят после выполнения прогноза вернуться к реальным значениям температуры.  "
      ]
    },
    {
      "cell_type": "code",
      "execution_count": null,
      "metadata": {
        "id": "ibViwYNsLYuL"
      },
      "outputs": [],
      "source": [
        "def normalize(series):\n",
        "    # Напишите свой код здесь\n",
        "\n",
        "    max_value = np.max(series)\n",
        "    min_value = np.min(series)\n",
        "\n",
        "    normalized = (series - min_value)/(max_value - min_value)\n",
        "\n",
        "    return normalized, max_value, min_value"
      ]
    },
    {
      "cell_type": "code",
      "execution_count": null,
      "metadata": {
        "colab": {
          "base_uri": "https://localhost:8080/",
          "height": 424
        },
        "id": "teE_C6vVLYuL",
        "outputId": "d8026952-20ed-4ba6-fa73-27be15eb531a"
      },
      "outputs": [
        {
          "output_type": "execute_result",
          "data": {
            "text/html": [
              "<div>\n",
              "<style scoped>\n",
              "    .dataframe tbody tr th:only-of-type {\n",
              "        vertical-align: middle;\n",
              "    }\n",
              "\n",
              "    .dataframe tbody tr th {\n",
              "        vertical-align: top;\n",
              "    }\n",
              "\n",
              "    .dataframe thead th {\n",
              "        text-align: right;\n",
              "    }\n",
              "</style>\n",
              "<table border=\"1\" class=\"dataframe\">\n",
              "  <thead>\n",
              "    <tr style=\"text-align: right;\">\n",
              "      <th></th>\n",
              "      <th>mode</th>\n",
              "      <th>temp</th>\n",
              "      <th>delta_temp</th>\n",
              "    </tr>\n",
              "  </thead>\n",
              "  <tbody>\n",
              "    <tr>\n",
              "      <th>0</th>\n",
              "      <td>3</td>\n",
              "      <td>0.310763</td>\n",
              "      <td>0.000000</td>\n",
              "    </tr>\n",
              "    <tr>\n",
              "      <th>1</th>\n",
              "      <td>4</td>\n",
              "      <td>0.407675</td>\n",
              "      <td>5.856320</td>\n",
              "    </tr>\n",
              "    <tr>\n",
              "      <th>2</th>\n",
              "      <td>2</td>\n",
              "      <td>0.418782</td>\n",
              "      <td>0.671153</td>\n",
              "    </tr>\n",
              "    <tr>\n",
              "      <th>3</th>\n",
              "      <td>4</td>\n",
              "      <td>0.503723</td>\n",
              "      <td>5.132913</td>\n",
              "    </tr>\n",
              "    <tr>\n",
              "      <th>4</th>\n",
              "      <td>4</td>\n",
              "      <td>0.569988</td>\n",
              "      <td>4.004358</td>\n",
              "    </tr>\n",
              "    <tr>\n",
              "      <th>...</th>\n",
              "      <td>...</td>\n",
              "      <td>...</td>\n",
              "      <td>...</td>\n",
              "    </tr>\n",
              "    <tr>\n",
              "      <th>1205945</th>\n",
              "      <td>2</td>\n",
              "      <td>0.156166</td>\n",
              "      <td>-0.028962</td>\n",
              "    </tr>\n",
              "    <tr>\n",
              "      <th>1205946</th>\n",
              "      <td>4</td>\n",
              "      <td>0.323197</td>\n",
              "      <td>10.093580</td>\n",
              "    </tr>\n",
              "    <tr>\n",
              "      <th>1205947</th>\n",
              "      <td>2</td>\n",
              "      <td>0.340362</td>\n",
              "      <td>1.037247</td>\n",
              "    </tr>\n",
              "    <tr>\n",
              "      <th>1205948</th>\n",
              "      <td>0</td>\n",
              "      <td>0.311810</td>\n",
              "      <td>-1.725342</td>\n",
              "    </tr>\n",
              "    <tr>\n",
              "      <th>1205949</th>\n",
              "      <td>2</td>\n",
              "      <td>0.314192</td>\n",
              "      <td>0.143930</td>\n",
              "    </tr>\n",
              "  </tbody>\n",
              "</table>\n",
              "<p>1205950 rows × 3 columns</p>\n",
              "</div>"
            ],
            "text/plain": [
              "         mode      temp  delta_temp\n",
              "0           3  0.310763    0.000000\n",
              "1           4  0.407675    5.856320\n",
              "2           2  0.418782    0.671153\n",
              "3           4  0.503723    5.132913\n",
              "4           4  0.569988    4.004358\n",
              "...       ...       ...         ...\n",
              "1205945     2  0.156166   -0.028962\n",
              "1205946     4  0.323197   10.093580\n",
              "1205947     2  0.340362    1.037247\n",
              "1205948     0  0.311810   -1.725342\n",
              "1205949     2  0.314192    0.143930\n",
              "\n",
              "[1205950 rows x 3 columns]"
            ]
          },
          "metadata": {},
          "execution_count": 11
        }
      ],
      "source": [
        "normalized, max_value, min_value = normalize(df['temp'])\n",
        "df.loc[:,'temp'] = normalized\n",
        "\n",
        "df"
      ]
    },
    {
      "cell_type": "markdown",
      "metadata": {
        "id": "r70N6r21LYuM"
      },
      "source": [
        "### Создание тестовой выборки"
      ]
    },
    {
      "cell_type": "markdown",
      "metadata": {
        "id": "oe_kUEdDLYuM"
      },
      "source": [
        "В качестве тестовой выборки будем использовать последовательность значений температур определенной длины **seq_length** и режим работы в конце этой последовательности. При этом стоит обратить внимание на то, что режим работы в какой-то временной отсчет $mode_i$ определяет значение температуры в тот же самый отсчет времени $T_i$. Поэтому обучающая выборка должна состоять из значений:\n",
        "\n",
        "$$\n",
        "X = \\{T_{N-seq\\_length+1}, ..., T_{N-1}, T_{N}, mode_{N+1}\\}.\n",
        "$$\n",
        "\n",
        "В то время как целевая переменная является просто последующим значением температуры:\n",
        "\n",
        "$$\n",
        "y = T_{N+1}.\n",
        "$$\n",
        "\n",
        "Напишем функцию, которая будет создавать обучающую и тестовую выборку объемом **N**, где длина обучающей последовательности равна **seq_length**."
      ]
    },
    {
      "cell_type": "code",
      "execution_count": null,
      "metadata": {
        "id": "HVaXkhNILYuM"
      },
      "outputs": [],
      "source": [
        "def get_sequences(df, N, seq_length):\n",
        "    if N + seq_length > len(df) - 1:\n",
        "        N = len(df) - seq_length - 1\n",
        "    X = []\n",
        "    y = []\n",
        "    pos = 1\n",
        "    while pos < N:\n",
        "        dataX = pd.Series( df.loc[pos : pos + seq_length - 1, 'temp'] ).append( pd.Series (df.loc[pos + seq_length, 'mode'] ), ignore_index=True).to_numpy()\n",
        "        X.append(dataX)\n",
        "        dataY = df.loc[pos + seq_length, 'temp']\n",
        "        y.append(dataY)\n",
        "        # pos += seq_length\n",
        "        pos += 1\n",
        "    return X, y"
      ]
    },
    {
      "cell_type": "markdown",
      "metadata": {
        "id": "g3fYdaJPLYuM"
      },
      "source": [
        "Создадим обучающую и тестовую выборки"
      ]
    },
    {
      "cell_type": "code",
      "execution_count": null,
      "metadata": {
        "id": "HFDZKoGtLYuM"
      },
      "outputs": [],
      "source": [
        "size = 10000\n",
        "seq_length = 40\n",
        "\n",
        "X, y = get_sequences(df, size, seq_length)\n",
        "X = np.array(X)\n",
        "y = np.array(y)"
      ]
    },
    {
      "cell_type": "code",
      "source": [
        "X"
      ],
      "metadata": {
        "colab": {
          "base_uri": "https://localhost:8080/"
        },
        "id": "Le6MAcLln5bc",
        "outputId": "84911457-8381-4035-9492-ee2d84cb2172"
      },
      "execution_count": null,
      "outputs": [
        {
          "output_type": "execute_result",
          "data": {
            "text/plain": [
              "array([[0.40767539, 0.4187818 , 0.50372261, ..., 0.81100665, 0.77945041,\n",
              "        0.        ],\n",
              "       [0.4187818 , 0.50372261, 0.5699878 , ..., 0.77945041, 0.74962818,\n",
              "        3.        ],\n",
              "       [0.50372261, 0.5699878 , 0.56243323, ..., 0.74962818, 0.70314462,\n",
              "        1.        ],\n",
              "       ...,\n",
              "       [0.37477195, 0.43617611, 0.44319688, ..., 0.29773854, 0.40249448,\n",
              "        4.        ],\n",
              "       [0.43617611, 0.44319688, 0.43128907, ..., 0.40249448, 0.48683088,\n",
              "        2.        ],\n",
              "       [0.44319688, 0.43128907, 0.46937151, ..., 0.48683088, 0.47082729,\n",
              "        4.        ]])"
            ]
          },
          "metadata": {},
          "execution_count": 14
        }
      ]
    },
    {
      "cell_type": "markdown",
      "metadata": {
        "id": "MRuJDoYOLYuM"
      },
      "source": [
        "### Кросс-валидация"
      ]
    },
    {
      "cell_type": "markdown",
      "metadata": {
        "id": "Jw_Zenx5LYuM"
      },
      "source": [
        "Для использования моделей машинного обучения с учителем необходимо специальным образом подготовить данные: сформировать обучающую выборку, на которой модель будет \"учиться\", т.е. подстраивать свои внутренние параметры, тестовую выборку, на которой будет определяться точность модели в процессе ее обучения, а также валидационную выборку, на которой проверяется итогое качество работы модели. \n",
        "\n",
        "Вместо выделения валидационной выборки можно использовать механизм кросс-валидации.В основе метода лежит разделение исходного множества данных на **k** примерно равных блоков, например 5. Затем на **k-1**, т.е. на 4-х блоках, производится обучение модели, а 5-й блок используется для тестирования. Процедура повторяется **k** раз, при этом на каждом проходе для проверки выбирается новый блок, а обучение производится на оставшихся.\n",
        "![Cross-validation](https://wiki.loginom.ru/images/cross-validation.svg)"
      ]
    },
    {
      "cell_type": "markdown",
      "metadata": {
        "id": "0BHCa9VOLYuN"
      },
      "source": [
        "Кросс-валидация имеет два основных преимущества перед применением одного множества для обучения и одного для тестирования модели:\n",
        "\n",
        "- Распределение классов оказывается более равномерным, что улучшает качество обучения.\n",
        "- Если при каждом проходе оценить выходную ошибку модели и усреднить ее по всем проходам, то полученная оценка будет более достоверной.\n",
        "\n",
        "В дальнейшем в этой лабораторной работе будем использовать разбиение на 5 блоков с помощью метода **[KFold](https://scikit-learn.org/stable/modules/generated/sklearn.model_selection.KFold.html?highlight=k%20fold#sklearn.model_selection.KFold 'KFold')**."
      ]
    },
    {
      "cell_type": "code",
      "execution_count": null,
      "metadata": {
        "colab": {
          "base_uri": "https://localhost:8080/"
        },
        "id": "IMijSuo0LYuN",
        "outputId": "5c7daf8e-a8e5-498a-fc6f-09488a87c0e6"
      },
      "outputs": [
        {
          "output_type": "stream",
          "name": "stdout",
          "text": [
            "Fold 1\n",
            "Train index:  [   0    1    2 ... 9996 9997 9998]\n",
            "Test index:  [  12   16   32 ... 9972 9975 9977]\n",
            "Fold 2\n",
            "Train index:  [   0    1    2 ... 9994 9997 9998]\n",
            "Test index:  [   3    6    9 ... 9992 9995 9996]\n",
            "Fold 3\n",
            "Train index:  [   1    2    3 ... 9996 9997 9998]\n",
            "Test index:  [   0    7   13 ... 9986 9987 9993]\n",
            "Fold 4\n",
            "Train index:  [   0    1    2 ... 9996 9997 9998]\n",
            "Test index:  [  11   18   27 ... 9982 9989 9991]\n",
            "Fold 5\n",
            "Train index:  [   0    3    6 ... 9993 9995 9996]\n",
            "Test index:  [   1    2    4 ... 9994 9997 9998]\n"
          ]
        }
      ],
      "source": [
        "from sklearn.model_selection import KFold\n",
        "\n",
        "kf = KFold(n_splits=5, shuffle=True)\n",
        "\n",
        "for i, (train_index, test_index) in enumerate(kf.split(X), start=1):\n",
        "    print('Fold {}'.format(i))\n",
        "    print('Train index: ', train_index)\n",
        "    print('Test index: ', test_index)"
      ]
    },
    {
      "cell_type": "markdown",
      "metadata": {
        "id": "R5La__KZLYuN"
      },
      "source": [
        "## Линейные модели машинного обучения"
      ]
    },
    {
      "cell_type": "markdown",
      "metadata": {
        "id": "1bEd2fXJLYuN"
      },
      "source": [
        "Задача прогнозирования температуры является задачей регрессии. Среди линейных моделей будем использовать линейную регрессию, линейную регрессию с L1 и L2-регуляризацией, а также логистическую регрессию. Подробное описание работы этих моделей можно прочитать на сайте [Scikit Learn](https://scikit-learn.org/stable/modules/linear_model.html 'Scikit Learn')."
      ]
    },
    {
      "cell_type": "markdown",
      "metadata": {
        "id": "l41CciOcLYuN"
      },
      "source": [
        "Сделаем процесс обучения различных моделей универсальным. Для этого напишем функцию **regr_mape(y_pred, y_test)**, которая будет считать точность спрогнизорованных значений температуры как средний по выборке модуль ошибки прогноза (метрика **MAPE**):\n",
        "\n",
        "$$\n",
        "MAPE = \\dfrac{1}{N}\\sum^{N}_{i=1}|y^{pred}_i-y^{test}_i|\n",
        "$$\n",
        "\n",
        "Также напишем функцию **train(model, model_name, evaluate, kfold, X, y)**, которая будет обучать заданную модель **model** с использованием механизма кросс-валидации **kfold**. Переменная **evaluate** обозначает метод, который используется для оценки точности пронозных значений (например, **regr_mape()**)."
      ]
    },
    {
      "cell_type": "code",
      "execution_count": null,
      "metadata": {
        "id": "tfaGIo1vLYuN"
      },
      "outputs": [],
      "source": [
        "def regr_mape(y_pred, y_test):\n",
        "    # Напишите свой код здесь\n",
        "    mape = np.mean(np.abs((y_test - y_pred)/y_test))*100\n",
        "    return mape\n",
        "\n",
        "def train(model, model_name, evaluate, kfold, X, y):\n",
        "    print('Train model: '+model_name)\n",
        "    scores = []\n",
        "    for train_index, test_index in kfold.split(X):\n",
        "        # Напишите свой код здесь\n",
        "        \n",
        "        X_train, X_test = X[train_index], X[test_index]\n",
        "        y_train, y_test = y[train_index], y[test_index]\n",
        "        trained = model.fit(X_train,y_train)\n",
        "        predicated_value = trained.predict(X_test)\n",
        "        scores.append( evaluate(predicated_value, y_test ) )\n",
        "    mean_score = np.mean(scores)\n",
        "    print('Mean score = {:.5f}'.format(mean_score))\n",
        "    return mean_score"
      ]
    },
    {
      "cell_type": "markdown",
      "metadata": {
        "id": "6gmsHW9bLYuO"
      },
      "source": [
        "### Линейная регрессия"
      ]
    },
    {
      "cell_type": "markdown",
      "metadata": {
        "id": "vL7KKPrqLYuO"
      },
      "source": [
        "В линейных моделях целевая переменная $\\hat{y}$ определяется как линейная комбинация известных переменных (признаков):\n",
        "\n",
        "$$\\hat{y}(w, x) = w_0 + w_1 x_1 + ... + w_p x_p$$\n",
        "\n",
        "В модели линейной регрессии коэффициенты $w = (w_1, ..., w_p)$ подбираются таким образом, чтобы минимизировать сумму квадратов отклонений рассчитанных значений целевой переменной от истинных значений:\n",
        "\n",
        "$$\\min_{w} || X w - y||_2^2$$\n",
        "\n",
        "Важно отметить, что линейные модели чувствительны к абсолютным значениям признаков, поэтому следует перед применением линейных моделей провести нормирование исходных данных (обычно на интервал \\[0,1\\]). Также применение линейных моделей основано на предположении о линейной независимости признаков, поэтому следует стараться не использовать в качестве признаков коррелированные признаки. В противном случае модель будет чувствительна к шумам, т.е. случайным выбросам в значениях признаков."
      ]
    },
    {
      "cell_type": "markdown",
      "metadata": {
        "id": "aMyETYmCLYuO"
      },
      "source": [
        "Создадим и обучим модель **[LinearRegression](https://scikit-learn.org/stable/modules/generated/sklearn.linear_model.LinearRegression.html#sklearn.linear_model.LinearRegression 'LinearRegression')**. Запишем точность модели в словарь **scores**."
      ]
    },
    {
      "cell_type": "code",
      "execution_count": null,
      "metadata": {
        "colab": {
          "base_uri": "https://localhost:8080/"
        },
        "id": "h62SCBL1LYuO",
        "outputId": "36a13607-ef1e-401d-ee2a-9187ac4d6a7b"
      },
      "outputs": [
        {
          "output_type": "stream",
          "name": "stdout",
          "text": [
            "Train model: linear regression\n",
            "Mean score = 3.43421\n"
          ]
        }
      ],
      "source": [
        "from sklearn import linear_model\n",
        "\n",
        "lin_reg = linear_model.LinearRegression()\n",
        "\n",
        "scores = dict()\n",
        "\n",
        "score = train(lin_reg, 'linear regression', regr_mape, kf, X, y)\n",
        "scores['linear regression'] = score"
      ]
    },
    {
      "cell_type": "markdown",
      "metadata": {
        "id": "dBcvz0AlLYuO"
      },
      "source": [
        "### Линейная регрессия c L1 и L2 регуляризацией"
      ]
    },
    {
      "cell_type": "markdown",
      "metadata": {
        "id": "Ntq2qh5pLYuO"
      },
      "source": [
        "Если размер обучающей выборки невелик, а число признаков, наоборот, достаточно велико, то коэффициенты модели могут быть подобраны таким образом, чтобы модель максимально точно учитывала все точки из обучающей выборки, при этом вне обучающей выборки модель будет давать большую ошибку. Это явление носит название переобучения. Одним из способов препятствовать переобучению является механизмы регуляризации. Он ограничивает значения коэффицентов $w = (w_1, ..., w_p)$, используемых в модели.\n",
        "\n",
        "L1-регуляризация вносит дополнительный \"штраф\", пропорциональный модулю значения коэффициента:\n",
        "$$\\min_{w} ||X w - y||_2 ^ 2 + \\alpha ||w||_1$$\n",
        "\n",
        "L2-регуляризация вносит дополнительный \"штраф\", пропорциональный квадрату модуля значения коэффициента:\n",
        "$$\\min_{w} || X w - y||_2^2 + \\alpha ||w||_2^2$$\n",
        "\n",
        "Параметр $\\alpha$ задает \"силу\" регуляризации. L1-регуляризация приведет к тому, что все несущественные признаки будут иметь вес, равный 0. L2-регуляризация приведет к тому, что несущественные признаки будут иметь околонулевые веса. Продемонстрируем это на примере. Создадим и обучим модели **[Lasso](https://scikit-learn.org/stable/modules/generated/sklearn.linear_model.Lasso.html#sklearn.linear_model.Lasso 'Lasso')** (L1-регуляризация) и **[Ridge](https://scikit-learn.org/stable/modules/generated/sklearn.linear_model.Ridge.html#sklearn.linear_model.Ridge 'Ridge')** (L2-регуляризация)."
      ]
    },
    {
      "cell_type": "code",
      "execution_count": null,
      "metadata": {
        "colab": {
          "base_uri": "https://localhost:8080/"
        },
        "id": "JtLftKvRLYuO",
        "outputId": "fc72f736-aa92-476d-c815-a068e9c320e6"
      },
      "outputs": [
        {
          "output_type": "stream",
          "name": "stdout",
          "text": [
            "Alpha = 0.0001\n",
            "Train model: lasso\n",
            "Mean score = 3.43973\n",
            "Alpha = 0.001\n",
            "Train model: lasso\n",
            "Mean score = 3.78453\n",
            "Alpha = 0.01\n",
            "Train model: lasso\n",
            "Mean score = 10.21876\n",
            "Alpha = 0.1\n",
            "Train model: lasso\n",
            "Mean score = 25.86640\n",
            "Alpha = 1\n",
            "Train model: lasso\n",
            "Mean score = 25.86642\n"
          ]
        }
      ],
      "source": [
        "# Обучим модель для различных значений параметра регуляризации. Затем выберем оптимальное значение\n",
        "for alpha in [1e-4, 1e-3, 0.01, 0.1, 1]:\n",
        "    print('Alpha = {}'.format(alpha))\n",
        "    lasso = linear_model.Lasso(alpha=alpha)\n",
        "    score = train(lasso, 'lasso', regr_mape, kf, X, y)"
      ]
    },
    {
      "cell_type": "code",
      "execution_count": null,
      "metadata": {
        "colab": {
          "base_uri": "https://localhost:8080/"
        },
        "id": "9SGu1iEoLYuP",
        "outputId": "e21f2622-ede1-4683-a34b-b9c0d5638290"
      },
      "outputs": [
        {
          "output_type": "stream",
          "name": "stdout",
          "text": [
            "Train model: lasso\n",
            "Mean score = 3.44176\n",
            "Coefficients:  [-0.00000000e+00 -0.00000000e+00 -0.00000000e+00 -0.00000000e+00\n",
            " -0.00000000e+00 -6.32460314e-03 -5.00496982e-04 -4.02842217e-04\n",
            " -1.06160601e-03 -1.80108427e-03 -0.00000000e+00 -0.00000000e+00\n",
            " -0.00000000e+00 -0.00000000e+00  0.00000000e+00  0.00000000e+00\n",
            "  0.00000000e+00  0.00000000e+00  0.00000000e+00 -0.00000000e+00\n",
            " -0.00000000e+00 -0.00000000e+00 -0.00000000e+00 -2.37423394e-03\n",
            " -1.49955908e-02 -0.00000000e+00 -4.11569041e-03 -1.06562455e-02\n",
            " -1.89769090e-03 -4.94401031e-03 -1.77169352e-02 -0.00000000e+00\n",
            " -7.89275025e-03 -9.94910923e-03 -1.83322778e-02 -1.30540137e-02\n",
            " -0.00000000e+00 -0.00000000e+00  0.00000000e+00  1.01716187e+00\n",
            "  1.83509556e-02]\n"
          ]
        }
      ],
      "source": [
        "# Выберите оптимальное значение параметра, обучите модель и добавьте значения метрики качества в словарь\n",
        "lasso = linear_model.Lasso(alpha=0.0001)\n",
        "\n",
        "score = train(lasso, 'lasso', regr_mape, kf, X, y)\n",
        "scores['lasso'] = score\n",
        "print('Coefficients: ', lasso.coef_)"
      ]
    },
    {
      "cell_type": "code",
      "execution_count": null,
      "metadata": {
        "colab": {
          "base_uri": "https://localhost:8080/"
        },
        "id": "9LtescoNLYuP",
        "outputId": "51d07b93-609d-4aa0-bcb4-7528ae56ae84"
      },
      "outputs": [
        {
          "output_type": "stream",
          "name": "stdout",
          "text": [
            "Counter: 0\n",
            "Alpha = 0.0001\n",
            "Train model: linear regression lasso\n",
            "Mean score = 3.43667\n",
            "Counter: 1\n",
            "Alpha = 0.001\n",
            "Train model: linear regression lasso\n",
            "Mean score = 3.43591\n",
            "Counter: 2\n",
            "Alpha = 0.01\n",
            "Train model: linear regression lasso\n",
            "Mean score = 3.43512\n",
            "Counter: 3\n",
            "Alpha = 0.1\n",
            "Train model: linear regression lasso\n",
            "Mean score = 3.43602\n",
            "Counter: 4\n",
            "Alpha = 1\n",
            "Train model: linear regression lasso\n",
            "Mean score = 3.46263\n",
            "Counter: 5\n",
            "Alpha = 10\n",
            "Train model: linear regression lasso\n",
            "Mean score = 4.12512\n",
            "Counter: 6\n",
            "Alpha = 100\n",
            "Train model: linear regression lasso\n",
            "Mean score = 7.01762\n"
          ]
        }
      ],
      "source": [
        "# Обучим модель Ridge для различных значений параметра регуляризации. Затем выберем оптимальное значение\n",
        "\n",
        "counter = 0\n",
        "m_scores = []\n",
        "for alpha in [1e-4, 1e-3, 0.01, 0.1, 1, 10, 100]:\n",
        "    print(f'Counter: {counter}')\n",
        "    print('Alpha = {}'.format(alpha))\n",
        "    ridge = linear_model.Ridge(alpha=alpha)\n",
        "    # напишите здесь ваш код\n",
        "    score = train(ridge, 'linear regression lasso', regr_mape, kf, X, y)\n",
        "    m_scores.append(score)\n",
        "    counter += 1\n"
      ]
    },
    {
      "cell_type": "code",
      "execution_count": null,
      "metadata": {
        "colab": {
          "base_uri": "https://localhost:8080/"
        },
        "id": "Ka-_3b4DLYuP",
        "outputId": "4bd7839a-2d1a-4ad8-cc1f-75183649cd13"
      },
      "outputs": [
        {
          "output_type": "stream",
          "name": "stdout",
          "text": [
            "Train model: ridge\n",
            "Mean score = 3.43656\n"
          ]
        }
      ],
      "source": [
        "# Выберите оптимальное значение параметра, обучите модель и добавьте значения метрики качества в словарь\n",
        "ridge = linear_model.Ridge(alpha = 0.001)\n",
        "score = train(ridge, 'ridge', regr_mape, kf, X, y)\n",
        "scores['ridge'] = score"
      ]
    },
    {
      "cell_type": "markdown",
      "metadata": {
        "id": "oTu4Dv9ELYuP"
      },
      "source": [
        "Наглядно видно, что **Lasso** для параметра $\\alpha>0.1$ просто занулила все коэффициенты, давая всегда прогноз 0. Конечно, такая работа модели нас не устраивает. "
      ]
    },
    {
      "cell_type": "markdown",
      "metadata": {
        "id": "GAF5NtIwLYuP"
      },
      "source": [
        "## Наглядное изображение прогнозных значений"
      ]
    },
    {
      "cell_type": "markdown",
      "metadata": {
        "id": "hFiNoyPZLYuP"
      },
      "source": [
        "Давайте посмотрим, какие значения будет выдавать модель, если попросить ее прогнозировать последовательно **forecast_size** значений температуры. Для этого напишем функцию **seq_forecast(model, sample, future_modes)**, которая для заданной модели **model** на основании начального элемента из обучающей выборки **sample** и будущих режимов работы **future_modes** будет последовательно прогнозировать значение температуры в следующий момент времени. Поэтому после очередного спрогнозированного значения температуры необходимо в **sample** добавить это значение, а также новый режим работы.\n",
        "\n",
        "Функция **plot_forecast(init_temp, true_temp, forecast_temp)** будет наглядно изображать начальный временной ряд **init_temp**, реальное **true_temp** и спрогнозированное **forecast_temp** значения температур в последующие отсчеты времени. Параметр **model_name** обозначает название модели и будет отображаться в названии рисунка."
      ]
    },
    {
      "cell_type": "code",
      "execution_count": null,
      "metadata": {
        "id": "0gaiGnMgLYuP"
      },
      "outputs": [],
      "source": [
        "def seq_forecast(model, sample, future_modes):\n",
        "    init_size = len(sample)\n",
        "    pred = model.predict(sample.reshape(1, -1))\n",
        "    y_pred = [pred[0]]\n",
        "    for new_mode in future_modes:\n",
        "        # Напишите свой код здесь\n",
        "        sample = np.delete(sample, [0, 40], None)\n",
        "        sample = np.append(sample, pred)\n",
        "        sample = np.append(sample, new_mode)\n",
        "        pred = model.predict(sample.reshape(1, -1))\n",
        "        y_pred.append(pred[0])\n",
        "    return y_pred[:-1]\n",
        "\n",
        "def plot_forecast(init_temp, true_temp, forecast_temp, model_name):\n",
        "    plt.figure(figsize=(5,5))\n",
        "    x1 = np.linspace(start=0, stop=len(init_temp), num=len(init_temp), endpoint=False)\n",
        "    x2 = np.linspace(start=len(init_temp), stop=len(init_temp)+len(true_temp), num=len(true_temp), endpoint=False)\n",
        "    plt.plot(x1, init_temp, c='black')\n",
        "    plt.plot(x2, true_temp, c='red', label='true')\n",
        "    plt.plot(x2, forecast_temp, c='red', linestyle='--', label='pred')\n",
        "    plt.legend()\n",
        "    plt.xlabel('timestamp')\n",
        "    plt.ylabel('normalized temp')\n",
        "    plt.title(model_name)\n",
        "    plt.show()"
      ]
    },
    {
      "cell_type": "markdown",
      "metadata": {
        "id": "m1jjKGskLYuP"
      },
      "source": [
        "Посмотрим на прогнозы линейных моделей"
      ]
    },
    {
      "cell_type": "code",
      "execution_count": null,
      "metadata": {
        "colab": {
          "base_uri": "https://localhost:8080/",
          "height": 350
        },
        "id": "EtBAfKcrLYuQ",
        "outputId": "a980b0de-ad4e-47cf-bb2d-fcfa2e7379de"
      },
      "outputs": [
        {
          "output_type": "display_data",
          "data": {
            "image/png": "[encoded data removed]",
            "text/plain": [
              "<Figure size 360x360 with 1 Axes>"
            ]
          },
          "metadata": {
            "needs_background": "light"
          }
        }
      ],
      "source": [
        "y_pred = seq_forecast(lin_reg, X[0].copy(), df.loc[2+seq_length:1+2*seq_length, 'mode'])\n",
        "plot_forecast(X[0][:seq_length], X[seq_length][:seq_length], y_pred, 'lin_reg')"
      ]
    },
    {
      "cell_type": "code",
      "execution_count": null,
      "metadata": {
        "colab": {
          "base_uri": "https://localhost:8080/",
          "height": 350
        },
        "id": "wUZihzsCLYuQ",
        "outputId": "543eae15-8288-4271-c236-a2c308237d63"
      },
      "outputs": [
        {
          "output_type": "display_data",
          "data": {
            "image/png": "[encoded data removed]",
            "text/plain": [
              "<Figure size 360x360 with 1 Axes>"
            ]
          },
          "metadata": {
            "needs_background": "light"
          }
        }
      ],
      "source": [
        "# Постройте анаолгичный график для модели Ridge\n",
        "y_pred_ridge = seq_forecast(ridge, X[0].copy(), df.loc[2+seq_length:1+2*seq_length, 'mode'])\n",
        "plot_forecast(X[0][:seq_length], X[seq_length][:seq_length], y_pred_ridge, 'Ridge')"
      ]
    },
    {
      "cell_type": "markdown",
      "metadata": {
        "id": "lzbLDt9tLYuQ"
      },
      "source": [
        "**Вывод:** сделайте вывод"
      ]
    },
    {
      "cell_type": "markdown",
      "source": [
        "MAPE показывает, что модели работают хорошо, т.е. ошибка меньше 4% (точность должна быть около 96%).\n",
        "Графики предсказанных температур сильно отклоняются от реальной температуры, что можно объяснить накоплением ошибки. "
      ],
      "metadata": {
        "id": "aic0qI42sDFs"
      }
    },
    {
      "cell_type": "markdown",
      "metadata": {
        "id": "gdjmUg9SLYuQ"
      },
      "source": [
        "## Метод опорных векторов"
      ]
    },
    {
      "cell_type": "markdown",
      "metadata": {
        "id": "QJFAClpGLYuQ"
      },
      "source": [
        "Этот метод применим для решения как задач классификации, так и регрессии, и кластеризации. Основными достоинствами метода являются:\n",
        "\n",
        "- эффективность при большой размерности пространства признаков\n",
        "- в процессе обучения запоминается только подвыборка обучающей выборки - опорные вектора, т.е. требует меньший объем памяти\n",
        "- можно применять разные ядра (kernels) для формирования модели\n",
        "\n",
        "Недостатком метода опорных векторов является то, что в случае, когда размерность пространства признаков много больше объема обучающей выборки, на результат работы модели сильно влияет выбор ядра. Также этот метод не позволяет быстро и просто получить вероятность прогноза.\n",
        "\n",
        "С математической точки зрения, метод опорных векторов проводит гипер-плоскость, которая разделяет один класс от другого. При этом граница проводится так, что быть расположенной максимально далеко от каждой из точек.\n",
        "![SVC](https://scikit-learn.org/stable/_images/sphx_glr_plot_separating_hyperplane_0011.png)\n",
        "\n",
        "Функция ядра определяет, какие признаки будут использоваться в качестве переменных в гиперпространстве, в котором проводится гипер-плоскость. Например, для линейного ядра $\\langle x, x'\\rangle$ берутся исходные признаки, для полиномиального ядра - полиномы от исходных признаков $(\\gamma \\langle x, x'\\rangle + r)^d$, для radial-basis-function (rbf) - экспоненциальная функция $\\exp(-\\gamma \\|x-x'\\|^2)$.\n",
        "\n",
        "Построим модель Support Vector Regression - [**SVR**](https://scikit-learn.org/stable/modules/generated/sklearn.svm.SVR.html#sklearn.svm.SVR 'SVR') для различных ядер. Заранее уменьшим размер выборки, что позволит проводить обучения в разумное время (метод опорных векторов довольно долго обучается)."
      ]
    },
    {
      "cell_type": "code",
      "execution_count": null,
      "metadata": {
        "id": "1BMrhCY0LYuQ"
      },
      "outputs": [],
      "source": [
        "from sklearn.svm import SVR\n",
        "X_svr = X[:10000, :]\n",
        "y_svr = y[:10000]"
      ]
    },
    {
      "cell_type": "code",
      "execution_count": null,
      "metadata": {
        "colab": {
          "base_uri": "https://localhost:8080/"
        },
        "id": "bBOqFcsNLYuQ",
        "outputId": "6093506e-7cdf-4164-bbe5-11951a35ec95"
      },
      "outputs": [
        {
          "output_type": "stream",
          "name": "stdout",
          "text": [
            "Counter: 0\n",
            "Kernel: linear\n",
            "Regularization: 0.0001\n",
            "Train model: svr\n",
            "Mean score = 15.97935\n",
            "Counter: 1\n",
            "Kernel: linear\n",
            "Regularization: 0.001\n",
            "Train model: svr\n",
            "Mean score = 9.68810\n",
            "Counter: 2\n",
            "Kernel: linear\n",
            "Regularization: 0.01\n",
            "Train model: svr\n",
            "Mean score = 7.35950\n",
            "Counter: 3\n",
            "Kernel: linear\n",
            "Regularization: 0.1\n",
            "Train model: svr\n",
            "Mean score = 5.75954\n",
            "Counter: 4\n",
            "Kernel: linear\n",
            "Regularization: 1\n",
            "Train model: svr\n",
            "Mean score = 5.28684\n",
            "Counter: 5\n",
            "Kernel: linear\n",
            "Regularization: 1.5\n",
            "Train model: svr\n",
            "Mean score = 5.28578\n",
            "Counter: 6\n",
            "Kernel: linear\n",
            "Regularization: 2\n",
            "Train model: svr\n",
            "Mean score = 5.30040\n",
            "Counter: 7\n",
            "Kernel: linear\n",
            "Regularization: 4\n",
            "Train model: svr\n",
            "Mean score = 5.32375\n",
            "Counter: 8\n",
            "Kernel: poly\n",
            "Regularization: 0.0001\n",
            "Train model: svr\n",
            "Mean score = 25.61817\n",
            "Counter: 9\n",
            "Kernel: poly\n",
            "Regularization: 0.001\n",
            "Train model: svr\n",
            "Mean score = 22.38066\n",
            "Counter: 10\n",
            "Kernel: poly\n",
            "Regularization: 0.01\n",
            "Train model: svr\n",
            "Mean score = 13.85834\n",
            "Counter: 11\n",
            "Kernel: poly\n",
            "Regularization: 0.1\n",
            "Train model: svr\n",
            "Mean score = 9.30871\n",
            "Counter: 12\n",
            "Kernel: poly\n",
            "Regularization: 1\n",
            "Train model: svr\n",
            "Mean score = 6.84640\n",
            "Counter: 13\n",
            "Kernel: poly\n",
            "Regularization: 1.5\n",
            "Train model: svr\n",
            "Mean score = 6.56341\n",
            "Counter: 14\n",
            "Kernel: poly\n",
            "Regularization: 2\n",
            "Train model: svr\n",
            "Mean score = 6.39457\n",
            "Counter: 15\n",
            "Kernel: poly\n",
            "Regularization: 4\n",
            "Train model: svr\n",
            "Mean score = 6.06547\n",
            "Counter: 16\n",
            "Kernel: rbf\n",
            "Regularization: 0.0001\n",
            "Train model: svr\n",
            "Mean score = 25.12836\n",
            "Counter: 17\n",
            "Kernel: rbf\n",
            "Regularization: 0.001\n",
            "Train model: svr\n",
            "Mean score = 19.70164\n",
            "Counter: 18\n",
            "Kernel: rbf\n",
            "Regularization: 0.01\n",
            "Train model: svr\n",
            "Mean score = 11.15137\n",
            "Counter: 19\n",
            "Kernel: rbf\n",
            "Regularization: 0.1\n",
            "Train model: svr\n",
            "Mean score = 8.15983\n",
            "Counter: 20\n",
            "Kernel: rbf\n",
            "Regularization: 1\n",
            "Train model: svr\n",
            "Mean score = 6.74960\n",
            "Counter: 21\n",
            "Kernel: rbf\n",
            "Regularization: 1.5\n",
            "Train model: svr\n",
            "Mean score = 6.60193\n",
            "Counter: 22\n",
            "Kernel: rbf\n",
            "Regularization: 2\n",
            "Train model: svr\n",
            "Mean score = 6.47908\n",
            "Counter: 23\n",
            "Kernel: rbf\n",
            "Regularization: 4\n",
            "Train model: svr\n",
            "Mean score = 6.31847\n"
          ]
        }
      ],
      "source": [
        "# Подберите оптимальное значение параметра регуляризации C и типа ядра (rbf, poly и т.д.). \n",
        "# Добавьте качество модели для оптимальных параметров в словарь.\n",
        "\n",
        "m_scores\n",
        "counter = 0\n",
        "for kernel in ('linear', 'poly', 'rbf'):\n",
        "  for C in (1e-4, 1e-3, 0.01, 0.1, 1, 1.5, 2, 4):\n",
        "    print(f'Counter: {counter}')\n",
        "    print(f'Kernel: {kernel}')\n",
        "    print(f'Regularization: {C}')\n",
        "    score = train(SVR(C=C, kernel=kernel, gamma='auto'), 'svr', regr_mape, kf, X_svr, y_svr)\n",
        "    m_scores.append(score)\n",
        "    counter += 1\n"
      ]
    },
    {
      "cell_type": "markdown",
      "metadata": {
        "id": "TUxysSjULYuQ"
      },
      "source": [
        "Посмотрим на результаты прогноза (постройте график)"
      ]
    },
    {
      "cell_type": "code",
      "execution_count": null,
      "metadata": {
        "colab": {
          "base_uri": "https://localhost:8080/",
          "height": 419
        },
        "id": "reuMJ2AzLYuR",
        "outputId": "13a51141-ef10-47ba-885c-c9e6c618b67a"
      },
      "outputs": [
        {
          "output_type": "stream",
          "name": "stdout",
          "text": [
            "3.435122469829679\n",
            "2\n",
            "Train model: svr\n",
            "Mean score = 5.78350\n"
          ]
        },
        {
          "output_type": "display_data",
          "data": {
            "image/png": "[encoded data removed]",
            "text/plain": [
              "<Figure size 360x360 with 1 Axes>"
            ]
          },
          "metadata": {
            "needs_background": "light"
          }
        }
      ],
      "source": [
        "# Напишите свой код здесь\n",
        "print(min(m_scores))\n",
        "print(m_scores.index(min(m_scores)))\n",
        "\n",
        "svr = SVR(C=0.1, kernel='linear', gamma='auto')\n",
        "score = train(svr, 'svr', regr_mape, kf, X_svr, y_svr)\n",
        "scores['svr'] = score\n",
        "\n",
        "y_pred_SVR = seq_forecast(svr, X[0].copy(), df.loc[2+seq_length:1+2*seq_length, 'mode'])\n",
        "plot_forecast(X[0][:seq_length], X[seq_length][:seq_length], y_pred_SVR, 'SVR')"
      ]
    },
    {
      "cell_type": "markdown",
      "metadata": {
        "id": "cMbceJADLYuR"
      },
      "source": [
        "**Вывод:** сделайте вывод"
      ]
    },
    {
      "cell_type": "markdown",
      "source": [
        "Оценка MAPE для метода опорных векторов оказаналась хуже оценок для регрессий.\n",
        "График, полученный методом опорных векторов сильно отклоняется от истинных значений"
      ],
      "metadata": {
        "id": "92DuAgGYtfkb"
      }
    },
    {
      "cell_type": "markdown",
      "metadata": {
        "id": "rO2jRewJLYuR"
      },
      "source": [
        "## Дерево решений"
      ]
    },
    {
      "cell_type": "markdown",
      "metadata": {
        "id": "PG2WbjSiLYuR"
      },
      "source": [
        "В модели дерева решений (Decision Tree) в процессе обучения строится алгоритм, по которому выполняется прогноз модели. При этом алгоритм представляет из себя дерево, каждый лист которого - это проверка на то, что какой-либо признак из обучающей выборки принимает определенное значение. Пример дерева решений приведен на рисунке ниже.\n",
        "![Decision Tree](https://scikit-learn.org/stable/_images/sphx_glr_plot_iris_dtc_0021.png)\n",
        "\n",
        "Преимуществами такого метода являются:\n",
        "- простота визуализации и хорошая интерпретируемость алгоритма прогноза\n",
        "- не требуется нормализация данных\n",
        "- скорость прогноза пропорциональна логарифму объема выборки, т.е. этот метод быстрый\n",
        "- может обрабатывать как числовые, так и категориальные данные\n",
        "\n",
        "Недостатками метода являются:\n",
        "- деревья легко переобучаются\n",
        "- небольшие изменения в обучающей выборке могут привести к перестойке всего дерева, т.е. метод нестабилен\n",
        "- предсказания деревьев являются кусочно-постоянными, поэтому не годятся для экстраполирования\n",
        "- требуется сбалансировать обучающую выборку по классам, чтобы не допустить \"перекоса\" дерева в сторону какого-либо класса\n",
        "\n",
        "Конкретную математическую реализалицаю алгоритма построения дерева решений можно изучить, например, [здесь.](https://scikit-learn.org/stable/modules/tree.html)\n",
        "\n",
        "Создадим модель [**DecisionTreeRegressor**](https://scikit-learn.org/stable/modules/generated/sklearn.tree.DecisionTreeRegressor.html#sklearn.tree.DecisionTreeRegressor 'DecisionTreeRegressor') и обучим ее. Для того, чтобы предотвратить переобучение дерева, обычно ограничивается максимальная глубина дерева - параметр **max_depth**, а также минимальное число элементов из обучающей выборки, приходящееся на определнный лист, чтобы можно было с него сделать новое ветвление - параметр **min_samples_split**."
      ]
    },
    {
      "cell_type": "code",
      "execution_count": null,
      "metadata": {
        "colab": {
          "base_uri": "https://localhost:8080/"
        },
        "id": "9Qz--CnCLYuR",
        "outputId": "915a701f-b1da-4dd1-c73f-143803340b82"
      },
      "outputs": [
        {
          "output_type": "stream",
          "name": "stdout",
          "text": [
            "Counter: 0\n",
            "Depth: 5\n",
            "split: 3\n",
            "Train model: decision tree\n",
            "Mean score = 3.77144\n",
            "Counter: 1\n",
            "Depth: 5\n",
            "split: 5\n",
            "Train model: decision tree\n",
            "Mean score = 3.82389\n",
            "Counter: 2\n",
            "Depth: 5\n",
            "split: 8\n",
            "Train model: decision tree\n",
            "Mean score = 3.79309\n",
            "Counter: 3\n",
            "Depth: 5\n",
            "split: 10\n",
            "Train model: decision tree\n",
            "Mean score = 3.81169\n",
            "Counter: 4\n",
            "Depth: 8\n",
            "split: 3\n",
            "Train model: decision tree\n",
            "Mean score = 2.02673\n",
            "Counter: 5\n",
            "Depth: 8\n",
            "split: 5\n",
            "Train model: decision tree\n",
            "Mean score = 2.03444\n",
            "Counter: 6\n",
            "Depth: 8\n",
            "split: 8\n",
            "Train model: decision tree\n",
            "Mean score = 2.01412\n",
            "Counter: 7\n",
            "Depth: 8\n",
            "split: 10\n",
            "Train model: decision tree\n",
            "Mean score = 2.06095\n",
            "Counter: 8\n",
            "Depth: 10\n",
            "split: 3\n",
            "Train model: decision tree\n",
            "Mean score = 2.02244\n",
            "Counter: 9\n",
            "Depth: 10\n",
            "split: 5\n",
            "Train model: decision tree\n",
            "Mean score = 1.99531\n",
            "Counter: 10\n",
            "Depth: 10\n",
            "split: 8\n",
            "Train model: decision tree\n",
            "Mean score = 1.99469\n",
            "Counter: 11\n",
            "Depth: 10\n",
            "split: 10\n",
            "Train model: decision tree\n",
            "Mean score = 1.98721\n"
          ]
        }
      ],
      "source": [
        "from sklearn.tree import DecisionTreeRegressor\n",
        "\n",
        "# Определите оптимальное значение параметра max_depth, min_samples_split и min_samples_leaf\n",
        "# Добавьте качество модели для оптимальных параметров в словарь.\n",
        "\n",
        "counter = 0\n",
        "m_scores = []\n",
        "for depth in [5, 8, 10]:\n",
        "  for split in [3, 5, 8, 10]:\n",
        "    dtr = DecisionTreeRegressor(max_depth=depth, min_samples_split=split, min_samples_leaf=2, random_state=0)\n",
        "    print(f'Counter: {counter}')\n",
        "    print(f'Depth: {depth}')\n",
        "    print(f'split: {split}')\n",
        "    x = train(dtr, 'decision tree', regr_mape, kf, X, y)\n",
        "    m_scores.append(x)\n",
        "    counter += 1"
      ]
    },
    {
      "cell_type": "markdown",
      "metadata": {
        "id": "sNOh9IfpLYuR"
      },
      "source": [
        "Посмотрим на результаты прогноза (постройте график)"
      ]
    },
    {
      "cell_type": "code",
      "execution_count": null,
      "metadata": {
        "colab": {
          "base_uri": "https://localhost:8080/",
          "height": 419
        },
        "id": "K8KeCIR1LYuR",
        "outputId": "a408c45e-0544-41ba-b147-fffffb0ad82b"
      },
      "outputs": [
        {
          "output_type": "stream",
          "name": "stdout",
          "text": [
            "1.9872095342798382\n",
            "11\n",
            "Train model: decision tree\n",
            "Mean score = 1.99623\n"
          ]
        },
        {
          "output_type": "display_data",
          "data": {
            "image/png": "[encoded data removed]",
            "text/plain": [
              "<Figure size 360x360 with 1 Axes>"
            ]
          },
          "metadata": {
            "needs_background": "light"
          }
        }
      ],
      "source": [
        "# Напишите свой код здесь\n",
        "print(min(m_scores))\n",
        "print(m_scores.index(min(m_scores)))\n",
        "\n",
        "dtr = DecisionTreeRegressor(max_depth=10, min_samples_split=10, min_samples_leaf=2, random_state=0)\n",
        "score = train(dtr, 'decision tree', regr_mape, kf, X, y)\n",
        "scores['decision tree'] = score\n",
        "\n",
        "y_pred_tree = seq_forecast(dtr, X[0].copy(), df.loc[2+seq_length:1+2*seq_length, 'mode'])\n",
        "plot_forecast(X[0][:seq_length], X[seq_length][:seq_length], y_pred_tree, 'Tree')"
      ]
    },
    {
      "cell_type": "markdown",
      "metadata": {
        "id": "KkdgUReRLYuR"
      },
      "source": [
        "**Вывод:** сделайте вывод"
      ]
    },
    {
      "cell_type": "markdown",
      "source": [
        "Оценка MAPE для дерева решений является наилучшей. Визуално дерево решений строит график ближе всего к истинным значениям"
      ],
      "metadata": {
        "id": "3z2Sy8jrtpzW"
      }
    },
    {
      "cell_type": "markdown",
      "metadata": {
        "id": "jLyRTpt7LYuR"
      },
      "source": [
        "## Сравнение различных моделей"
      ]
    },
    {
      "cell_type": "markdown",
      "metadata": {
        "id": "e-dy--b-LYuS"
      },
      "source": [
        "Отобразим на графике точность работы каждой построенной модели. Для этого будем использовать значения из словаря **scores**."
      ]
    },
    {
      "cell_type": "code",
      "execution_count": null,
      "metadata": {
        "colab": {
          "base_uri": "https://localhost:8080/",
          "height": 324
        },
        "id": "YU00f0U2LYuS",
        "outputId": "b23a6515-6075-4054-aec2-80ae3db818cd"
      },
      "outputs": [
        {
          "output_type": "display_data",
          "data": {
            "image/png": "[encoded data removed]",
            "text/plain": [
              "<Figure size 720x360 with 1 Axes>"
            ]
          },
          "metadata": {
            "needs_background": "light"
          }
        }
      ],
      "source": [
        "plt.figure(figsize=(10,5))\n",
        "xx = list(scores.keys())\n",
        "yy = list(scores.values())\n",
        "rects = plt.bar(xx, yy)\n",
        "plt.ylim(0, 8)\n",
        "plt.ylabel('MAPE')\n",
        "for i, rect in enumerate(rects):\n",
        "    yloc = rect.get_height()\n",
        "    xloc = rect.get_x() + rect.get_width() / 4\n",
        "    plt.annotate(round(yy[i], 4), xy=(xloc, yloc), xytext=(xloc, 10),\n",
        "                            textcoords=\"offset points\",\n",
        "                            va='center',\n",
        "                            color='black', clip_on=True)"
      ]
    },
    {
      "cell_type": "markdown",
      "metadata": {
        "id": "jWRBxpQKLYuS"
      },
      "source": [
        "Для наглядности еще раз продемонстрируем результаты прогноза каждой из построенной модели, но на существенно более длительном интервале времени."
      ]
    },
    {
      "cell_type": "code",
      "source": [
        "def regr_mape(y_pred, y_test):\n",
        "    # Напишите свой код здесь\n",
        "    mape = np.mean(np.abs([y_test[i] - y_pred[i] for i in range(len(y_pred))])/sum(y_test))*100\n",
        "    return mape"
      ],
      "metadata": {
        "id": "yoXqueB8tSsq"
      },
      "execution_count": null,
      "outputs": []
    },
    {
      "cell_type": "code",
      "execution_count": null,
      "metadata": {
        "colab": {
          "base_uri": "https://localhost:8080/",
          "height": 1000
        },
        "id": "RTS6ISVhLYuS",
        "outputId": "6bc85e56-51c4-4080-8684-b7e279ae3451"
      },
      "outputs": [
        {
          "output_type": "display_data",
          "data": {
            "image/png": "[encoded data removed]",
            "text/plain": [
              "<Figure size 360x360 with 1 Axes>"
            ]
          },
          "metadata": {
            "needs_background": "light"
          }
        },
        {
          "output_type": "stream",
          "name": "stdout",
          "text": [
            "linear regr MAPE:  0.094320083088972\n"
          ]
        },
        {
          "output_type": "display_data",
          "data": {
            "image/png": "[encoded data removed]",
            "text/plain": [
              "<Figure size 360x360 with 1 Axes>"
            ]
          },
          "metadata": {
            "needs_background": "light"
          }
        },
        {
          "output_type": "stream",
          "name": "stdout",
          "text": [
            "svr MAPE:  0.08319542225851824\n"
          ]
        },
        {
          "output_type": "display_data",
          "data": {
            "image/png": "[encoded data removed]",
            "text/plain": [
              "<Figure size 360x360 with 1 Axes>"
            ]
          },
          "metadata": {
            "needs_background": "light"
          }
        },
        {
          "output_type": "stream",
          "name": "stdout",
          "text": [
            "decision tree MAPE:  0.07468753644268396\n"
          ]
        }
      ],
      "source": [
        "models = [lin_reg, svr, dtr]\n",
        "model_names = ['linear regr', 'svr', 'decision tree']\n",
        "\n",
        "# Глубина прогноза\n",
        "pred_length = 5*seq_length\n",
        "y_true = []\n",
        "for i in range(5):\n",
        "    y_true.append(X[seq_length * (i + 1)][:seq_length])\n",
        "y_true = [item for sublist in y_true for item in sublist]\n",
        "for model, model_name in zip(models,model_names):\n",
        "    # Напишите свой код здесь\n",
        "    y_pred = seq_forecast(model, X[0].copy(), df.loc[2 + seq_length:1 + pred_length + seq_length, 'mode'])\n",
        "    plot_forecast(X[0][:seq_length], y_true, y_pred, model_name)\n",
        "    print(model_name+' MAPE: ', regr_mape(y_true, y_pred))\n",
        "    error = (np.array(y_pred) - np.array(y_true)) * (max_value - min_value) + min_value\n"
      ]
    },
    {
      "cell_type": "markdown",
      "metadata": {
        "id": "NJ73SGftLYuS"
      },
      "source": [
        "## Выводы"
      ]
    },
    {
      "cell_type": "markdown",
      "metadata": {
        "id": "fovvS0QaLYuS"
      },
      "source": [
        "Сделайте выводы"
      ]
    },
    {
      "cell_type": "markdown",
      "source": [
        "Для задачи предсказания временного ряда алгоритм-дерево показал результат лучше, чем остальные алгоритмы.\n",
        "Для задачи предсказания временного ряда опорные вектора показали результат хуже, чем остальные алгоритмы."
      ],
      "metadata": {
        "id": "YI6lA4gat1tJ"
      }
    },
    {
      "cell_type": "markdown",
      "source": [
        ""
      ],
      "metadata": {
        "id": "u92QHKgCt1re"
      }
    },
    {
      "cell_type": "markdown",
      "metadata": {
        "id": "tbvd_B1HLYuS"
      },
      "source": [
        "В дальнешем мы остановимся на методе *Decision Tree* и попробуем сделать прогноз еще более точным с использованием ансамблевых моделей."
      ]
    }
  ],
  "metadata": {
    "kernelspec": {
      "display_name": "Python 3",
      "language": "python",
      "name": "python3"
    },
    "language_info": {
      "codemirror_mode": {
        "name": "ipython",
        "version": 3
      },
      "file_extension": ".py",
      "mimetype": "text/x-python",
      "name": "python",
      "nbconvert_exporter": "python",
      "pygments_lexer": "ipython3",
      "version": "3.7.6"
    },
    "colab": {
      "name": "Lab5_task_1.ipynb",
      "provenance": [],
      "collapsed_sections": []
    }
  },
  "nbformat": 4,
  "nbformat_minor": 0
}